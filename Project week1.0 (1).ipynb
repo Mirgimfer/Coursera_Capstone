{
 "cells": [
  {
   "cell_type": "markdown",
   "id": "22fdc913-e5f6-42f4-9735-edb54c928547",
   "metadata": {},
   "source": [
    "<h1> Intorduction"
   ]
  },
  {
   "cell_type": "markdown",
   "id": "5c5b1726-21a1-4609-8e40-84c941ded125",
   "metadata": {},
   "source": [
    "Further information: Demographics of New York (https://en.wikipedia.org/wiki/Demographics_of_New_York_City)\n",
    "\n",
    "New York City's demographics show that it is a large and ethnically diverse metropolis.It is the largest city in the United States with a long history of international immigration. New York City was home to over 8.3 million people in 2019,accounting for over 40% of the population of New York State and a slightly lower percentage of the New York metropolitan area, home to approximately 23.6 million. Over the last decade the city has been growing faster than the region. The New York region continues to be by far the leading metropolitan gateway for legal immigrants admitted into the United States."
   ]
  },
  {
   "cell_type": "markdown",
   "id": "2d2ebbb8-304f-4f5a-b031-6c9c52af08fe",
   "metadata": {},
   "source": [
    "This final project explores the best locations for a Italian restaurants through the city of New York. As per the current situation that all of us are living with the COVID-19, maybe is a beat risky to invest and open a new restaurant, for this reason my client wants to know how many Italian restaurants there are today and analyze if it would be a good decision, but as New York is the most diverse city in the world (800 languages are spoken in New York), it has a long tradition of different ethnical restaurants.\n",
    "Opening a new restaurant requires serious considerations and is more complicated than it seems from the first glance. In particular, the location of the restaurant is one of the most important factors that will affect whether it will have success or a failure. So our project will attempt to answer the questions “Where should the investor open a Italian Restaurant?” and “Where should I go If I want great Italian food?”"
   ]
  },
  {
   "cell_type": "markdown",
   "id": "67b4d89e-3b76-47fa-a6c7-39110f6160ca",
   "metadata": {},
   "source": [
    "<h1>Data"
   ]
  },
  {
   "cell_type": "markdown",
   "id": "67725c5f-e73b-49d1-b665-fcaa09de030b",
   "metadata": {},
   "source": [
    "In order to answer the above questions, data on New York City neighborhoods, boroughs to include boundaries, latitude, longitude, restaurants, and restaurant ratings and tips are required.\n",
    "\n",
    "New York City data containing the neighborhoods and boroughs, latitudes, and longitudes will be obtained from the data source: https://cocl.us/new_york_dataset\n",
    "\n",
    "All data related to locations will be obtained via the FourSquare API utilized via the Request library in Python."
   ]
  },
  {
   "cell_type": "markdown",
   "id": "074a7586-b15f-445f-acb9-87d9090e900b",
   "metadata": {},
   "source": [
    "<h1>Methodology"
   ]
  },
  {
   "cell_type": "markdown",
   "id": "c24c01ac-8c40-4329-b118-0a1d02106448",
   "metadata": {},
   "source": [
    " • Data will be collected from https://cocl.us/new_york_dataset and cleaned and processed into a dataframe.\n",
    "\n",
    "    • FourSquare be used to locate all venues and then filtered by bike shops Ratings, tips, and likes by users will be counted and added to the dataframe.\n",
    "\n",
    "    • Data will be sorted based on rankings.\n",
    "\n",
    "    • Finally, the data be will be visually assessed using graphing from Python libraries."
   ]
  },
  {
   "cell_type": "markdown",
   "id": "9326804b-f24c-4c68-b2e0-23bf9c96deba",
   "metadata": {},
   "source": [
    "<h1> Problem Statement"
   ]
  },
  {
   "cell_type": "markdown",
   "id": "1089e6c6-da94-4550-a9e4-874fb7909f38",
   "metadata": {},
   "source": [
    "    1.What is / are the best location(s) for Italian restaurant in New York City?\n",
    "    2.In what Neighborhood and/or borough should the investor open bike shop to have the best chance of being successful?\n",
    "    3.Where would I go in New York City for a best Italian restaurant?"
   ]
  },
  {
   "cell_type": "code",
   "execution_count": null,
   "id": "a07a6bd3-68c7-4ffa-acda-585f291d680b",
   "metadata": {},
   "outputs": [],
   "source": []
  }
 ],
 "metadata": {
  "kernelspec": {
   "display_name": "Python",
   "language": "python",
   "name": "conda-env-python-py"
  },
  "language_info": {
   "codemirror_mode": {
    "name": "ipython",
    "version": 3
   },
   "file_extension": ".py",
   "mimetype": "text/x-python",
   "name": "python",
   "nbconvert_exporter": "python",
   "pygments_lexer": "ipython3",
   "version": "3.6.13"
  }
 },
 "nbformat": 4,
 "nbformat_minor": 5
}
