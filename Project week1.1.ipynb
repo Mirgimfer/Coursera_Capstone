{
 "cells": [
  {
   "cell_type": "markdown",
   "id": "04f823a1-691c-482e-a391-d457e73d6bfe",
   "metadata": {},
   "source": [
    "<h1> Intorduction"
   ]
  },
  {
   "cell_type": "markdown",
   "id": "c4fb667e-78e3-426e-9699-932bf5985c29",
   "metadata": {},
   "source": [
    "Further information: Demographics of New York (https://en.wikipedia.org/wiki/Demographics_of_New_York_City)\n",
    "\n",
    "New York City's demographics show that it is a large and ethnically diverse metropolis.It is the largest city in the United States with a long history of international immigration. New York City was home to over 8.3 million people in 2019,accounting for over 40% of the population of New York State and a slightly lower percentage of the New York metropolitan area, home to approximately 23.6 million. Over the last decade the city has been growing faster than the region. The New York region continues to be by far the leading metropolitan gateway for legal immigrants admitted into the United States."
   ]
  },
  {
   "cell_type": "markdown",
   "id": "95dccc80-373a-40b9-bdf4-ea441a91a82c",
   "metadata": {},
   "source": [
    "This final project explores the best locations for a bike shop through the city of New York. As per the current situation that all of us are living with the COVID-19, the life stile has change and there is more people interested to do exercise, due to this the sales of bikes as been increasing and it is a good business opportunity.\n",
    "However, as with any business, opening a new bike shop requires serious considerations and is more complicated than it seems from the first glance. In particular, the location of the shop is one of the most important factors that will affect whether it will have success or a failure. So our project will attempt to answer the questions “Where should the investor open a bike shop?” and \"Where should I go if I want to buy a bike or something for my bike?\""
   ]
  },
  {
   "cell_type": "markdown",
   "id": "803c6687-a667-42e3-a194-2832667d3d21",
   "metadata": {},
   "source": [
    "<h1>Data"
   ]
  },
  {
   "cell_type": "markdown",
   "id": "3de7b45d-6c0a-4b65-a4a8-55e08f2fd578",
   "metadata": {},
   "source": [
    "\n",
    "In order to answer the above questions, data on New York City neighborhoods, boroughs to include boundaries, latitude, longitude, restaurants, and restaurant ratings and tips are required.\n",
    "\n",
    "New York City data containing the neighborhoods and boroughs, latitudes, and longitudes will be obtained from the data source: https://cocl.us/new_york_dataset\n",
    "\n",
    "All data related to locations will be obtained via the FourSquare API utilized via the Request library in Python."
   ]
  },
  {
   "cell_type": "markdown",
   "id": "10b0e455-5610-4793-bd85-0a5e15a2cea7",
   "metadata": {},
   "source": [
    "<h1>Methodology"
   ]
  },
  {
   "cell_type": "markdown",
   "id": "3247d397-53f3-443a-8c80-a05ecbed4611",
   "metadata": {},
   "source": [
    "    • Data will be collected from https://cocl.us/new_york_dataset and cleaned and processed into a dataframe.\n",
    "\n",
    "    • FourSquare be used to locate all venues and then filtered by bike shops Ratings, tips, and likes by users will be counted and added to the dataframe.\n",
    "\n",
    "    • Data will be sorted based on rankings.\n",
    "\n",
    "    • Finally, the data be will be visually assessed using graphing from Python libraries."
   ]
  },
  {
   "cell_type": "markdown",
   "id": "5977c658-62fc-4341-a959-e569cf4f46ef",
   "metadata": {},
   "source": [
    "<h1> Problem Statement"
   ]
  },
  {
   "cell_type": "markdown",
   "id": "a985945d-9522-4515-9bf6-5f445913aec6",
   "metadata": {},
   "source": [
    "    1.What is / are the best location(s) for bike shop in New York City?\n",
    "    2.In what Neighborhood and/or borough should the investor open bike shop to have the best chance of being successful?\n",
    "    3.Where would I go in New York City to buy a bike in the best bike shop?"
   ]
  },
  {
   "cell_type": "code",
   "execution_count": null,
   "id": "fef465a7-57dd-4c42-b4d2-e1f620125071",
   "metadata": {},
   "outputs": [],
   "source": []
  }
 ],
 "metadata": {
  "kernelspec": {
   "display_name": "Python",
   "language": "python",
   "name": "conda-env-python-py"
  },
  "language_info": {
   "codemirror_mode": {
    "name": "ipython",
    "version": 3
   },
   "file_extension": ".py",
   "mimetype": "text/x-python",
   "name": "python",
   "nbconvert_exporter": "python",
   "pygments_lexer": "ipython3",
   "version": "3.6.13"
  }
 },
 "nbformat": 4,
 "nbformat_minor": 5
}
